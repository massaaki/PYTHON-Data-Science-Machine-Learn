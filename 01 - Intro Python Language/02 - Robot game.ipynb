{
 "cells": [
  {
   "cell_type": "markdown",
   "metadata": {},
   "source": [
    "# Robot\n",
    "Game that robot can move in a 10x10 matrix and get rewards"
   ]
  },
  {
   "cell_type": "code",
   "execution_count": 204,
   "metadata": {},
   "outputs": [],
   "source": [
    "class Point(object):\n",
    "    def __init__(self, x, y):\n",
    "        self.x = x\n",
    "        self.y = y\n",
    "    def __str__(self):\n",
    "        return '<%s, %s>' % (self.x, self.y)"
   ]
  },
  {
   "cell_type": "code",
   "execution_count": 205,
   "metadata": {},
   "outputs": [],
   "source": [
    "class Reward(Point):\n",
    "    def __init__(self, x, y, name):\n",
    "        super(Reward, self).__init__(x,y)\n",
    "        self.name = name\n",
    "        \n",
    "    def __str__(self):\n",
    "        return '<%s, %s>: %s' % (self.x, self.y, self.name)\n",
    "    \n",
    "    def __repr__(self):\n",
    "        return 'Reward: %s' % str(self)"
   ]
  },
  {
   "cell_type": "code",
   "execution_count": 206,
   "metadata": {},
   "outputs": [],
   "source": [
    "class Robot(Point):\n",
    "    def __init__(self, x, y):\n",
    "        super(Robot, self).__init__(x,y)\n",
    "        \n",
    "    def move_up(self):\n",
    "        if(self.y < 10):\n",
    "            self.y += 1\n",
    "        else:\n",
    "            print(\"You can't do this moviment\")\n",
    "        \n",
    "        \n",
    "    def move_down(self):\n",
    "        if(self.y > 0):\n",
    "            self.y -= 1\n",
    "        else:\n",
    "           print(\"You can't do this moviment\") \n",
    "        \n",
    "    def move_left(self):\n",
    "        if(self.x > 0):\n",
    "            self.x -= 1\n",
    "        else:\n",
    "            print(\"You can't do this moviment\") \n",
    "        \n",
    "    def move_right(self):\n",
    "        if(self.x < 10):\n",
    "            self.x += 1\n",
    "        else:\n",
    "            print(\"You can't do this moviment\") "
   ]
  },
  {
   "cell_type": "code",
   "execution_count": null,
   "metadata": {},
   "outputs": [],
   "source": [
    "def check_reward(robot, rewards):\n",
    "    \n",
    "    reward_found = False\n",
    "    \n",
    "    for reward in rewards:\n",
    "        if(reward.x == robot.x and reward.y == robot.y):\n",
    "            print(\"Reward..: \", reward.name)\n",
    "            reward_found = True\n",
    "            \n",
    "    if(not reward_found):\n",
    "        print(\"Nothing here...\")"
   ]
  },
  {
   "cell_type": "markdown",
   "metadata": {},
   "source": [
    "# Test 01\n",
    "Create a robot and 2 rewards and move robot to the rewards position and check if position has a reward"
   ]
  },
  {
   "cell_type": "code",
   "execution_count": 175,
   "metadata": {},
   "outputs": [],
   "source": [
    "# Creating rewards\n",
    "r1 = Reward(1,2, \"Coin\")\n",
    "r2 = Reward(5,2, \"Fuel\")"
   ]
  },
  {
   "cell_type": "code",
   "execution_count": 176,
   "metadata": {},
   "outputs": [],
   "source": [
    "# Creating a robot\n",
    "robot = Robot(2,2)"
   ]
  },
  {
   "cell_type": "code",
   "execution_count": 178,
   "metadata": {},
   "outputs": [
    {
     "name": "stdout",
     "output_type": "stream",
     "text": [
      "Nothing here...\n"
     ]
    }
   ],
   "source": [
    "rewards = [r1, r2]\n",
    "check_reward(robot, rewards)\n"
   ]
  },
  {
   "cell_type": "code",
   "execution_count": 179,
   "metadata": {},
   "outputs": [
    {
     "name": "stdout",
     "output_type": "stream",
     "text": [
      "Reward..:  Coin\n"
     ]
    }
   ],
   "source": [
    "robot.move_left()\n",
    "check_reward(robot, rewards)"
   ]
  },
  {
   "cell_type": "markdown",
   "metadata": {},
   "source": [
    "# Test 02\n",
    "Create a robot and a random rewards"
   ]
  },
  {
   "cell_type": "code",
   "execution_count": 208,
   "metadata": {},
   "outputs": [],
   "source": [
    "import random"
   ]
  },
  {
   "cell_type": "code",
   "execution_count": 222,
   "metadata": {},
   "outputs": [],
   "source": [
    "r1 = Reward(random.randint(0,10),random.randint(0,10), \"Coin\");\n",
    "r2 = Reward(random.randint(0,10),random.randint(0,10), \"Fuel\");\n",
    "r3 = Reward(random.randint(0,10),random.randint(0,10), \"Weapon\");\n",
    "\n",
    "rewards = [r1, r2, r3]"
   ]
  },
  {
   "cell_type": "code",
   "execution_count": 223,
   "metadata": {},
   "outputs": [
    {
     "data": {
      "text/plain": [
       "[Reward: <0, 8>: Coin, Reward: <7, 7>: Fuel, Reward: <3, 9>: Weapon]"
      ]
     },
     "execution_count": 223,
     "metadata": {},
     "output_type": "execute_result"
    }
   ],
   "source": [
    "rewards"
   ]
  },
  {
   "cell_type": "code",
   "execution_count": 224,
   "metadata": {},
   "outputs": [],
   "source": [
    "robot = Robot(random.randint(0,10), random.randint(0,10))"
   ]
  },
  {
   "cell_type": "code",
   "execution_count": 220,
   "metadata": {},
   "outputs": [
    {
     "data": {
      "text/plain": [
       "'<6, 0>'"
      ]
     },
     "execution_count": 220,
     "metadata": {},
     "output_type": "execute_result"
    }
   ],
   "source": [
    "str(robot)"
   ]
  },
  {
   "cell_type": "code",
   "execution_count": null,
   "metadata": {},
   "outputs": [
    {
     "name": "stdout",
     "output_type": "stream",
     "text": [
      "up, down, left or right (u,d,l,r) :d\n",
      "<7, 6>\n",
      "<7, 6> Nothing here...\n",
      "up, down, left or right (u,d,l,r) :u\n",
      "<7, 7>\n",
      "Reward..:  Fuel\n"
     ]
    }
   ],
   "source": [
    "# Walking\n",
    "for i in range(20):\n",
    "    moviment = input(\"up, down, left or right (u,d,l,r) :\")\n",
    "    \n",
    "    if(moviment == \"u\"):\n",
    "        robot.move_up()\n",
    "    elif (moviment == \"d\"):\n",
    "        robot.move_down()\n",
    "    elif (moviment == \"l\"):\n",
    "        robot.move_left()\n",
    "    elif (moviment == \"r\"):\n",
    "        robot.move_right()\n",
    "    else:\n",
    "        print(\"invalid moviment\")\n",
    "        continue\n",
    "    print(robot)    \n",
    "    check_reward(robot, rewards)"
   ]
  }
 ],
 "metadata": {
  "kernelspec": {
   "display_name": "Python 3",
   "language": "python",
   "name": "python3"
  },
  "language_info": {
   "codemirror_mode": {
    "name": "ipython",
    "version": 3
   },
   "file_extension": ".py",
   "mimetype": "text/x-python",
   "name": "python",
   "nbconvert_exporter": "python",
   "pygments_lexer": "ipython3",
   "version": "3.8.2"
  }
 },
 "nbformat": 4,
 "nbformat_minor": 4
}
